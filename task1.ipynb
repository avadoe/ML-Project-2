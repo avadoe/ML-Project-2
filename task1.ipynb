{
  "cells": [
    {
      "cell_type": "code",
      "execution_count": 43,
      "metadata": {
        "id": "iUAirH6PMWwy",
        "pycharm": {
          "name": "#%%\n"
        }
      },
      "outputs": [],
      "source": [
        "import numpy as np\n",
        "import pandas as pd\n",
        "import matplotlib.pyplot as plt\n",
        "from statistics import mean,stdev"
      ]
    },
    {
      "cell_type": "code",
      "execution_count": 44,
      "metadata": {
        "id": "xkGZ-9zwy7dQ",
        "pycharm": {
          "name": "#%%\n"
        }
      },
      "outputs": [],
      "source": [
        "def standard_normal_distribution(x,avg,std):\n",
        "    return np.exp(-0.5*(x-avg)*(x-avg)/(std*std))/(np.sqrt(2*np.pi))"
      ]
    },
    {
      "cell_type": "code",
      "execution_count": 45,
      "metadata": {
        "id": "gVm34VzrE5ml",
        "pycharm": {
          "name": "#%%\n"
        }
      },
      "outputs": [],
      "source": [
        "def evaluation_summary(label,model_metrics):\n",
        "    print(f\"Model Name: {label}\\n\")\n",
        "    print(f\"Average Accuracy: {model_metrics['Accuracy']}\\n\")\n",
        "\n",
        "    if len(model_metrics)>2:\n",
        "        print(f\"Average Precision: {model_metrics['Precision']}\\n\")\n",
        "        print(f\"Average Recall: {model_metrics['Recall']}\\n\")\n",
        "        print(f\"Average F1_Score: {model_metrics['F1_score']}\\n\")\n",
        "    print(f\"Confusion_Matrix:\\n {model_metrics['Confusion_Matrix']}\")"
      ]
    },
    {
      "cell_type": "code",
      "execution_count": 46,
      "metadata": {
        "id": "0WR0xQLzcQkZ",
        "pycharm": {
          "name": "#%%\n"
        }
      },
      "outputs": [],
      "source": [
        "def Eval_metrics(y_test,y_pred,num_classes):\n",
        "\n",
        "    confusion_matrix=np.zeros((num_classes,num_classes))\n",
        "    for i in range(y_test.shape[0]):\n",
        "        confusion_matrix[y_pred[i]][y_test[i]]=confusion_matrix[y_pred[i]][y_test[i]]+1\n",
        "\n",
        "\n",
        "\n",
        "\n",
        "    accuracy=0;\n",
        "    for i in range(num_classes):\n",
        "        accuracy=accuracy+confusion_matrix[i][i]\n",
        "    accuracy=accuracy/y_test.shape[0]\n",
        "\n",
        "\n",
        "\n",
        "    return {'Accuracy':accuracy,'Confusion_Matrix':confusion_matrix}"
      ]
    },
    {
      "cell_type": "code",
      "execution_count": 47,
      "metadata": {
        "id": "-VR2JeMGy7dR",
        "pycharm": {
          "name": "#%%\n"
        }
      },
      "outputs": [],
      "source": [
        "def Eval_metrics_naive_bayes(y_test,y_pred):\n",
        "    tp=0\n",
        "    fp=0\n",
        "    tn=0\n",
        "    fn=0\n",
        "    for i in range(y_test.shape[0]):\n",
        "        if y_test[i]==y_pred[i] and y_test[i]==1:\n",
        "            tp=tp+1\n",
        "        elif y_test[i]==y_pred[i] and y_test[i]==0:\n",
        "            tn=tn+1\n",
        "        elif y_test[i]!=y_pred[i] and y_pred[i]==1:\n",
        "            fp=fp+1\n",
        "        else:\n",
        "            fn=fn+1\n",
        "\n",
        "    accuracy=(tn+tp)/(tn+tp+fn+fp)\n",
        "    precision= tp / (tp + fp)\n",
        "    recall=tp/(tp+fn)\n",
        "    f1_score=2*precision*recall/(precision+recall)\n",
        "    confusion_matrix=[(tp,fp),(fn,tn)]\n",
        "    df=pd.DataFrame(confusion_matrix)\n",
        "    df.index.name=None\n",
        "\n",
        "    return {'Accuracy':accuracy,'Precision':precision,'Recall':recall,'F1_score':f1_score,'Confusion_Matrix':df}"
      ]
    },
    {
      "cell_type": "markdown",
      "metadata": {
        "id": "i0V-LRWMaVBf",
        "pycharm": {
          "name": "#%% md\n"
        }
      },
      "source": [
        "**Part A** - *Naive Bayes Classifier to Predict Income*"
      ]
    },
    {
      "cell_type": "markdown",
      "metadata": {
        "id": "M7BlCzhQaZGH",
        "pycharm": {
          "name": "#%% md\n"
        }
      },
      "source": [
        "Task 1- *Data Preprocessing*"
      ]
    },
    {
      "cell_type": "code",
      "execution_count": 48,
      "metadata": {
        "colab": {
          "base_uri": "https://localhost:8080/",
          "height": 391
        },
        "id": "xq6R3EsiUBtJ",
        "outputId": "d2f6c588-aa1b-4857-a888-59876b8d4706",
        "pycharm": {
          "name": "#%%\n"
        }
      },
      "outputs": [
        {
          "data": {
            "text/html": [
              "\n",
              "  <div id=\"df-891dd88f-33be-4d04-a253-64f31bacb98d\">\n",
              "    <div class=\"colab-df-container\">\n",
              "      <div>\n",
              "<style scoped>\n",
              "    .dataframe tbody tr th:only-of-type {\n",
              "        vertical-align: middle;\n",
              "    }\n",
              "\n",
              "    .dataframe tbody tr th {\n",
              "        vertical-align: top;\n",
              "    }\n",
              "\n",
              "    .dataframe thead th {\n",
              "        text-align: right;\n",
              "    }\n",
              "</style>\n",
              "<table border=\"1\" class=\"dataframe\">\n",
              "  <thead>\n",
              "    <tr style=\"text-align: right;\">\n",
              "      <th></th>\n",
              "      <th>age</th>\n",
              "      <th>workclass</th>\n",
              "      <th>fnlwgt</th>\n",
              "      <th>education</th>\n",
              "      <th>education-num</th>\n",
              "      <th>marital-status</th>\n",
              "      <th>occupation</th>\n",
              "      <th>relationship</th>\n",
              "      <th>race</th>\n",
              "      <th>sex</th>\n",
              "      <th>capital-gain</th>\n",
              "      <th>capital-loss</th>\n",
              "      <th>hours-per-week</th>\n",
              "      <th>native-country</th>\n",
              "      <th>&gt;=50K</th>\n",
              "    </tr>\n",
              "  </thead>\n",
              "  <tbody>\n",
              "    <tr>\n",
              "      <th>0</th>\n",
              "      <td>39</td>\n",
              "      <td>State-gov</td>\n",
              "      <td>77516</td>\n",
              "      <td>Bachelors</td>\n",
              "      <td>13</td>\n",
              "      <td>Never-married</td>\n",
              "      <td>Adm-clerical</td>\n",
              "      <td>Not-in-family</td>\n",
              "      <td>White</td>\n",
              "      <td>Male</td>\n",
              "      <td>2174</td>\n",
              "      <td>0</td>\n",
              "      <td>40</td>\n",
              "      <td>United-States</td>\n",
              "      <td>&lt;=50K</td>\n",
              "    </tr>\n",
              "    <tr>\n",
              "      <th>1</th>\n",
              "      <td>50</td>\n",
              "      <td>Self-emp-not-inc</td>\n",
              "      <td>83311</td>\n",
              "      <td>Bachelors</td>\n",
              "      <td>13</td>\n",
              "      <td>Married-civ-spouse</td>\n",
              "      <td>Exec-managerial</td>\n",
              "      <td>Husband</td>\n",
              "      <td>White</td>\n",
              "      <td>Male</td>\n",
              "      <td>0</td>\n",
              "      <td>0</td>\n",
              "      <td>13</td>\n",
              "      <td>United-States</td>\n",
              "      <td>&lt;=50K</td>\n",
              "    </tr>\n",
              "    <tr>\n",
              "      <th>2</th>\n",
              "      <td>38</td>\n",
              "      <td>Private</td>\n",
              "      <td>215646</td>\n",
              "      <td>HS-grad</td>\n",
              "      <td>9</td>\n",
              "      <td>Divorced</td>\n",
              "      <td>Handlers-cleaners</td>\n",
              "      <td>Not-in-family</td>\n",
              "      <td>White</td>\n",
              "      <td>Male</td>\n",
              "      <td>0</td>\n",
              "      <td>0</td>\n",
              "      <td>40</td>\n",
              "      <td>United-States</td>\n",
              "      <td>&lt;=50K</td>\n",
              "    </tr>\n",
              "    <tr>\n",
              "      <th>3</th>\n",
              "      <td>53</td>\n",
              "      <td>Private</td>\n",
              "      <td>234721</td>\n",
              "      <td>11th</td>\n",
              "      <td>7</td>\n",
              "      <td>Married-civ-spouse</td>\n",
              "      <td>Handlers-cleaners</td>\n",
              "      <td>Husband</td>\n",
              "      <td>Black</td>\n",
              "      <td>Male</td>\n",
              "      <td>0</td>\n",
              "      <td>0</td>\n",
              "      <td>40</td>\n",
              "      <td>United-States</td>\n",
              "      <td>&lt;=50K</td>\n",
              "    </tr>\n",
              "    <tr>\n",
              "      <th>4</th>\n",
              "      <td>28</td>\n",
              "      <td>Private</td>\n",
              "      <td>338409</td>\n",
              "      <td>Bachelors</td>\n",
              "      <td>13</td>\n",
              "      <td>Married-civ-spouse</td>\n",
              "      <td>Prof-specialty</td>\n",
              "      <td>Wife</td>\n",
              "      <td>Black</td>\n",
              "      <td>Female</td>\n",
              "      <td>0</td>\n",
              "      <td>0</td>\n",
              "      <td>40</td>\n",
              "      <td>Cuba</td>\n",
              "      <td>&lt;=50K</td>\n",
              "    </tr>\n",
              "  </tbody>\n",
              "</table>\n",
              "</div>\n",
              "      <button class=\"colab-df-convert\" onclick=\"convertToInteractive('df-891dd88f-33be-4d04-a253-64f31bacb98d')\"\n",
              "              title=\"Convert this dataframe to an interactive table.\"\n",
              "              style=\"display:none;\">\n",
              "        \n",
              "  <svg xmlns=\"http://www.w3.org/2000/svg\" height=\"24px\"viewBox=\"0 0 24 24\"\n",
              "       width=\"24px\">\n",
              "    <path d=\"M0 0h24v24H0V0z\" fill=\"none\"/>\n",
              "    <path d=\"M18.56 5.44l.94 2.06.94-2.06 2.06-.94-2.06-.94-.94-2.06-.94 2.06-2.06.94zm-11 1L8.5 8.5l.94-2.06 2.06-.94-2.06-.94L8.5 2.5l-.94 2.06-2.06.94zm10 10l.94 2.06.94-2.06 2.06-.94-2.06-.94-.94-2.06-.94 2.06-2.06.94z\"/><path d=\"M17.41 7.96l-1.37-1.37c-.4-.4-.92-.59-1.43-.59-.52 0-1.04.2-1.43.59L10.3 9.45l-7.72 7.72c-.78.78-.78 2.05 0 2.83L4 21.41c.39.39.9.59 1.41.59.51 0 1.02-.2 1.41-.59l7.78-7.78 2.81-2.81c.8-.78.8-2.07 0-2.86zM5.41 20L4 18.59l7.72-7.72 1.47 1.35L5.41 20z\"/>\n",
              "  </svg>\n",
              "      </button>\n",
              "      \n",
              "  <style>\n",
              "    .colab-df-container {\n",
              "      display:flex;\n",
              "      flex-wrap:wrap;\n",
              "      gap: 12px;\n",
              "    }\n",
              "\n",
              "    .colab-df-convert {\n",
              "      background-color: #E8F0FE;\n",
              "      border: none;\n",
              "      border-radius: 50%;\n",
              "      cursor: pointer;\n",
              "      display: none;\n",
              "      fill: #1967D2;\n",
              "      height: 32px;\n",
              "      padding: 0 0 0 0;\n",
              "      width: 32px;\n",
              "    }\n",
              "\n",
              "    .colab-df-convert:hover {\n",
              "      background-color: #E2EBFA;\n",
              "      box-shadow: 0px 1px 2px rgba(60, 64, 67, 0.3), 0px 1px 3px 1px rgba(60, 64, 67, 0.15);\n",
              "      fill: #174EA6;\n",
              "    }\n",
              "\n",
              "    [theme=dark] .colab-df-convert {\n",
              "      background-color: #3B4455;\n",
              "      fill: #D2E3FC;\n",
              "    }\n",
              "\n",
              "    [theme=dark] .colab-df-convert:hover {\n",
              "      background-color: #434B5C;\n",
              "      box-shadow: 0px 1px 3px 1px rgba(0, 0, 0, 0.15);\n",
              "      filter: drop-shadow(0px 1px 2px rgba(0, 0, 0, 0.3));\n",
              "      fill: #FFFFFF;\n",
              "    }\n",
              "  </style>\n",
              "\n",
              "      <script>\n",
              "        const buttonEl =\n",
              "          document.querySelector('#df-891dd88f-33be-4d04-a253-64f31bacb98d button.colab-df-convert');\n",
              "        buttonEl.style.display =\n",
              "          google.colab.kernel.accessAllowed ? 'block' : 'none';\n",
              "\n",
              "        async function convertToInteractive(key) {\n",
              "          const element = document.querySelector('#df-891dd88f-33be-4d04-a253-64f31bacb98d');\n",
              "          const dataTable =\n",
              "            await google.colab.kernel.invokeFunction('convertToInteractive',\n",
              "                                                     [key], {});\n",
              "          if (!dataTable) return;\n",
              "\n",
              "          const docLinkHtml = 'Like what you see? Visit the ' +\n",
              "            '<a target=\"_blank\" href=https://colab.research.google.com/notebooks/data_table.ipynb>data table notebook</a>'\n",
              "            + ' to learn more about interactive tables.';\n",
              "          element.innerHTML = '';\n",
              "          dataTable['output_type'] = 'display_data';\n",
              "          await google.colab.output.renderOutput(dataTable, element);\n",
              "          const docLink = document.createElement('div');\n",
              "          docLink.innerHTML = docLinkHtml;\n",
              "          element.appendChild(docLink);\n",
              "        }\n",
              "      </script>\n",
              "    </div>\n",
              "  </div>\n",
              "  "
            ],
            "text/plain": [
              "   age          workclass  fnlwgt   education  education-num  \\\n",
              "0   39          State-gov   77516   Bachelors             13   \n",
              "1   50   Self-emp-not-inc   83311   Bachelors             13   \n",
              "2   38            Private  215646     HS-grad              9   \n",
              "3   53            Private  234721        11th              7   \n",
              "4   28            Private  338409   Bachelors             13   \n",
              "\n",
              "        marital-status          occupation    relationship    race      sex  \\\n",
              "0        Never-married        Adm-clerical   Not-in-family   White     Male   \n",
              "1   Married-civ-spouse     Exec-managerial         Husband   White     Male   \n",
              "2             Divorced   Handlers-cleaners   Not-in-family   White     Male   \n",
              "3   Married-civ-spouse   Handlers-cleaners         Husband   Black     Male   \n",
              "4   Married-civ-spouse      Prof-specialty            Wife   Black   Female   \n",
              "\n",
              "   capital-gain  capital-loss  hours-per-week  native-country   >=50K  \n",
              "0          2174             0              40   United-States   <=50K  \n",
              "1             0             0              13   United-States   <=50K  \n",
              "2             0             0              40   United-States   <=50K  \n",
              "3             0             0              40   United-States   <=50K  \n",
              "4             0             0              40            Cuba   <=50K  "
            ]
          },
          "execution_count": 48,
          "metadata": {},
          "output_type": "execute_result"
        }
      ],
      "source": [
        "df=pd.read_csv(\"https://archive.ics.uci.edu/ml/machine-learning-databases/adult/adult.data\",index_col=False,names=[\"age\",\"workclass\",\"fnlwgt\",\"education\",\"education-num\",\"marital-status\",\"occupation\",\"relationship\",\"race\",\"sex\",\"capital-gain\",\"capital-loss\",\"hours-per-week\",\"native-country\",\">=50K\"])\n",
        "df.head()"
      ]
    },
    {
      "cell_type": "code",
      "execution_count": 49,
      "metadata": {
        "colab": {
          "base_uri": "https://localhost:8080/"
        },
        "id": "LhpqAUe6UBVO",
        "outputId": "c9e29fa2-4ef6-42f9-dc3c-da2c55f5cc68",
        "pycharm": {
          "name": "#%%\n"
        }
      },
      "outputs": [
        {
          "name": "stdout",
          "output_type": "stream",
          "text": [
            "<class 'pandas.core.frame.DataFrame'>\n",
            "RangeIndex: 32561 entries, 0 to 32560\n",
            "Data columns (total 15 columns):\n",
            " #   Column          Non-Null Count  Dtype \n",
            "---  ------          --------------  ----- \n",
            " 0   age             32561 non-null  int64 \n",
            " 1   workclass       32561 non-null  object\n",
            " 2   fnlwgt          32561 non-null  int64 \n",
            " 3   education       32561 non-null  object\n",
            " 4   education-num   32561 non-null  int64 \n",
            " 5   marital-status  32561 non-null  object\n",
            " 6   occupation      32561 non-null  object\n",
            " 7   relationship    32561 non-null  object\n",
            " 8   race            32561 non-null  object\n",
            " 9   sex             32561 non-null  object\n",
            " 10  capital-gain    32561 non-null  int64 \n",
            " 11  capital-loss    32561 non-null  int64 \n",
            " 12  hours-per-week  32561 non-null  int64 \n",
            " 13  native-country  32561 non-null  object\n",
            " 14  >=50K           32561 non-null  object\n",
            "dtypes: int64(6), object(9)\n",
            "memory usage: 3.7+ MB\n"
          ]
        }
      ],
      "source": [
        "df.info()"
      ]
    },
    {
      "cell_type": "code",
      "execution_count": 50,
      "metadata": {
        "colab": {
          "base_uri": "https://localhost:8080/"
        },
        "id": "5cUjwXJqy7dT",
        "outputId": "0c9de800-3b2f-485e-9775-8cd72fc7ca18",
        "pycharm": {
          "name": "#%%\n"
        }
      },
      "outputs": [
        {
          "name": "stdout",
          "output_type": "stream",
          "text": [
            "[' White' ' Black' ' Asian-Pac-Islander' ' Amer-Indian-Eskimo' ' Other'] \n",
            " 5\n"
          ]
        }
      ],
      "source": [
        "print(df['race'].unique(), '\\n', df['race'].nunique())"
      ]
    },
    {
      "cell_type": "code",
      "execution_count": 51,
      "metadata": {
        "id": "ws8fiB87y7dU",
        "pycharm": {
          "name": "#%%\n"
        }
      },
      "outputs": [],
      "source": [
        "df['race']=df['race'].replace([' Black', \" White\", ' Asian-Pac-Islander', ' Other', ' Amer-Indian-Eskimo'],\n",
        "                              [1, 2, 3, 4, 5]\n",
        "                              )"
      ]
    },
    {
      "cell_type": "code",
      "execution_count": 52,
      "metadata": {
        "colab": {
          "base_uri": "https://localhost:8080/"
        },
        "id": "qjW-b97VcV2N",
        "outputId": "7d1e9319-0822-4fc8-a84b-1833aa5e82bd",
        "pycharm": {
          "name": "#%%\n"
        }
      },
      "outputs": [
        {
          "name": "stdout",
          "output_type": "stream",
          "text": [
            "[' Never-married' ' Married-civ-spouse' ' Divorced'\n",
            " ' Married-spouse-absent' ' Separated' ' Married-AF-spouse' ' Widowed'] \n",
            " 7\n"
          ]
        }
      ],
      "source": [
        "print(df['marital-status'].unique(), '\\n', df['marital-status'].nunique())"
      ]
    },
    {
      "cell_type": "code",
      "execution_count": 53,
      "metadata": {
        "id": "BuCe3nSKy7dU",
        "pycharm": {
          "name": "#%%\n"
        }
      },
      "outputs": [],
      "source": [
        "df['marital-status']=df['marital-status'].replace([' Never-married', ' Married-civ-spouse', ' Divorced'\n",
        "                                                   ,' Married-spouse-absent', ' Separated', ' Married-AF-spouse', ' Widowed'],\n",
        "                              [1, 2, 3, 4, 5,6,7]\n",
        "                              )"
      ]
    },
    {
      "cell_type": "code",
      "execution_count": 54,
      "metadata": {
        "colab": {
          "base_uri": "https://localhost:8080/"
        },
        "id": "_lv1BuNny7dU",
        "outputId": "5eb57f38-b6b0-40d3-b77d-7e4e90d15f79",
        "pycharm": {
          "name": "#%%\n"
        }
      },
      "outputs": [
        {
          "name": "stdout",
          "output_type": "stream",
          "text": [
            "[' State-gov' ' Self-emp-not-inc' ' Private' ' Federal-gov' ' Local-gov'\n",
            " ' ?' ' Self-emp-inc' ' Without-pay' ' Never-worked'] \n",
            " 9\n"
          ]
        }
      ],
      "source": [
        "print(df['workclass'].unique(), '\\n', df['workclass'].nunique())"
      ]
    },
    {
      "cell_type": "code",
      "execution_count": 55,
      "metadata": {
        "id": "jK0Dugacy7dU",
        "pycharm": {
          "name": "#%%\n"
        }
      },
      "outputs": [],
      "source": [
        "df['workclass'].replace([' Private', ' Local-gov', ' ?', ' Self-emp-not-inc', ' Federal-gov', ' State-gov',\n",
        "                         ' Self-emp-inc', ' Without-pay', ' Never-worked'], [1, 2, 3, 4, 5, 6, 7, 8, 9], inplace=True)"
      ]
    },
    {
      "cell_type": "code",
      "execution_count": 56,
      "metadata": {
        "colab": {
          "base_uri": "https://localhost:8080/"
        },
        "id": "4Uq-Zq0Ly7dU",
        "outputId": "c10e44d1-0982-4168-8a69-aca2b90c308b",
        "pycharm": {
          "name": "#%%\n"
        }
      },
      "outputs": [
        {
          "name": "stdout",
          "output_type": "stream",
          "text": [
            "[' Bachelors' ' HS-grad' ' 11th' ' Masters' ' 9th' ' Some-college'\n",
            " ' Assoc-acdm' ' Assoc-voc' ' 7th-8th' ' Doctorate' ' Prof-school'\n",
            " ' 5th-6th' ' 10th' ' 1st-4th' ' Preschool' ' 12th'] \n",
            " 15\n"
          ]
        }
      ],
      "source": [
        "print(df['education'].unique(), '\\n',df['occupation'].nunique())"
      ]
    },
    {
      "cell_type": "code",
      "execution_count": 57,
      "metadata": {
        "id": "9Kgf6d4WcV0I",
        "pycharm": {
          "name": "#%%\n"
        }
      },
      "outputs": [],
      "source": [
        "df['education'].replace([' 11th', ' HS-grad', ' Assoc-acdm', ' Some-college', ' 10th', ' Prof-school',\n",
        "                         ' 7th-8th', ' Bachelors', ' Masters', ' Doctorate', ' 5th-6th', ' Assoc-voc', ' 9th',\n",
        "                         ' 12th', ' 1st-4th', ' Preschool'], [1, 2, 3, 4, 5, 6, 7, 8, 9, 10, 11, 12, 13, 14, 15, 16], inplace=True)"
      ]
    },
    {
      "cell_type": "code",
      "execution_count": 58,
      "metadata": {
        "colab": {
          "base_uri": "https://localhost:8080/"
        },
        "id": "_LuMztUVcVvs",
        "outputId": "437aa988-a725-411f-f91f-e8917b010fc4",
        "pycharm": {
          "name": "#%%\n"
        }
      },
      "outputs": [
        {
          "name": "stdout",
          "output_type": "stream",
          "text": [
            "[' Adm-clerical' ' Exec-managerial' ' Handlers-cleaners' ' Prof-specialty'\n",
            " ' Other-service' ' Sales' ' Craft-repair' ' Transport-moving'\n",
            " ' Farming-fishing' ' Machine-op-inspct' ' Tech-support' ' ?'\n",
            " ' Protective-serv' ' Armed-Forces' ' Priv-house-serv'] \n",
            " 15\n"
          ]
        }
      ],
      "source": [
        "print(df['occupation'].unique(), \"\\n\" ,df['occupation'].nunique())"
      ]
    },
    {
      "cell_type": "code",
      "execution_count": 59,
      "metadata": {
        "id": "Ig481BEicVsU",
        "pycharm": {
          "name": "#%%\n"
        }
      },
      "outputs": [],
      "source": [
        "df['occupation'].replace([' Machine-op-inspct', ' Farming-fishing', ' Protective-serv', ' ?',\n",
        "                          ' Other-service', ' Prof-specialty', ' Craft-repair', ' Adm-clerical',\n",
        "                          ' Exec-managerial', ' Tech-support', ' Sales', ' Priv-house-serv',\n",
        "                          ' Transport-moving', ' Handlers-cleaners', ' Armed-Forces'],\n",
        "                         [1, 2, 3, 4, 5, 6, 7, 8, 9, 10, 11, 12, 13, 14, 15], inplace=True\n",
        "                         )"
      ]
    },
    {
      "cell_type": "code",
      "execution_count": 60,
      "metadata": {
        "colab": {
          "base_uri": "https://localhost:8080/"
        },
        "id": "7cCqg97AcVqR",
        "outputId": "599f8324-2af1-42c9-8a44-a7203a61ca7e",
        "pycharm": {
          "name": "#%%\n"
        }
      },
      "outputs": [
        {
          "name": "stdout",
          "output_type": "stream",
          "text": [
            "[' Not-in-family' ' Husband' ' Wife' ' Own-child' ' Unmarried'\n",
            " ' Other-relative'] \n",
            " 6\n"
          ]
        }
      ],
      "source": [
        "print(df['relationship'].unique(), '\\n', df['relationship'].nunique())"
      ]
    },
    {
      "cell_type": "code",
      "execution_count": 61,
      "metadata": {
        "id": "lOOAAq_KcVno",
        "pycharm": {
          "name": "#%%\n"
        }
      },
      "outputs": [],
      "source": [
        "df['relationship'].replace([' Own-child', ' Husband', ' Not-in-family', ' Unmarried', ' Wife', ' Other-relative'],\n",
        "                           [1, 2, 3, 4, 5, 6], inplace=True)"
      ]
    },
    {
      "cell_type": "code",
      "execution_count": 62,
      "metadata": {
        "colab": {
          "base_uri": "https://localhost:8080/"
        },
        "id": "pxxgx_xwcViu",
        "outputId": "0a25a9d3-f060-49a8-b269-a0775891f99e",
        "pycharm": {
          "name": "#%%\n"
        }
      },
      "outputs": [
        {
          "name": "stdout",
          "output_type": "stream",
          "text": [
            "[' Male' ' Female'] \n",
            " 2\n"
          ]
        }
      ],
      "source": [
        "print(df['sex'].unique(), '\\n', df['sex'].nunique())"
      ]
    },
    {
      "cell_type": "code",
      "execution_count": 63,
      "metadata": {
        "id": "JV-fgP92cVgV",
        "pycharm": {
          "name": "#%%\n"
        }
      },
      "outputs": [],
      "source": [
        "df['sex'].replace([' Male', ' Female'], [0, 1], inplace=True)"
      ]
    },
    {
      "cell_type": "code",
      "execution_count": 64,
      "metadata": {
        "id": "69l_NxkscVdv",
        "pycharm": {
          "name": "#%%\n"
        }
      },
      "outputs": [],
      "source": [
        "l = []\n",
        "for i in range(42):\n",
        "    l.append(i)"
      ]
    },
    {
      "cell_type": "code",
      "execution_count": 65,
      "metadata": {
        "id": "aR-qresecVbN",
        "pycharm": {
          "name": "#%%\n"
        }
      },
      "outputs": [],
      "source": [
        "df['native-country'].replace([' United-States', ' ?', ' Peru', ' Guatemala', ' Mexico', ' Dominican-Republic',\n",
        "                              ' Ireland', ' Germany', ' Philippines', ' Thailand', ' Haiti', ' El-Salvador',\n",
        "                              ' Puerto-Rico', ' Vietnam', ' South', ' Columbia', ' Japan', ' India', ' Cambodia',\n",
        "                              ' Poland', ' Laos', ' England', ' Cuba', ' Taiwan', ' Italy', ' Canada', ' Portugal',\n",
        "                              ' China', ' Nicaragua', ' Honduras', ' Iran', ' Scotland', ' Jamaica', ' Ecuador',\n",
        "                              ' Yugoslavia', ' Hungary', ' Hong', ' Greece', ' Trinadad&Tobago',\n",
        "                              ' Outlying-US(Guam-USVI-etc)', ' France', ' Holand-Netherlands'], l, inplace=True)"
      ]
    },
    {
      "cell_type": "code",
      "execution_count": 66,
      "metadata": {
        "colab": {
          "base_uri": "https://localhost:8080/"
        },
        "id": "Troz8l6Xy7dW",
        "outputId": "39b38bb7-1611-4f76-bcd9-a055aeca31d8",
        "pycharm": {
          "name": "#%%\n"
        }
      },
      "outputs": [
        {
          "name": "stdout",
          "output_type": "stream",
          "text": [
            "[ 0 22 32 17  1  4 14 12 29 21 25  7 30  8 24 19 15 18  9 33 20 23 10 26\n",
            "  5 11 40  3 27 16 34  2 39 31 38 37 28 13 36  6 35 41] \n",
            " 42\n"
          ]
        }
      ],
      "source": [
        "print(df['native-country'].unique(), '\\n', df['native-country'].nunique())"
      ]
    },
    {
      "cell_type": "code",
      "execution_count": 67,
      "metadata": {
        "id": "f-z2-Af-y7dW",
        "pycharm": {
          "name": "#%%\n"
        }
      },
      "outputs": [],
      "source": [
        "df['>=50K'].replace([' <=50K', ' >50K'], [0, 1], inplace=True)"
      ]
    },
    {
      "cell_type": "code",
      "execution_count": 68,
      "metadata": {
        "id": "dwkde_Ciy7dW",
        "pycharm": {
          "name": "#%%\n"
        }
      },
      "outputs": [],
      "source": [
        "df[\"age\"]=(df[\"age\"]-df[\"age\"].mean())/df[\"age\"].std()\n",
        "df[\"fnlwgt\"]=(df[\"fnlwgt\"]-df[\"fnlwgt\"].mean())/df[\"fnlwgt\"].std()\n",
        "df[\"education-num\"]=(df[\"education-num\"]-df[\"education-num\"].mean())/df[\"education-num\"].std()\n",
        "df[\"capital-gain\"]=(df[\"capital-gain\"]-df[\"capital-gain\"].mean())/df[\"capital-gain\"].std()\n",
        "df[\"capital-loss\"]=(df[\"capital-loss\"]-df[\"capital-loss\"].mean())/df[\"capital-loss\"].std()\n",
        "df[\"hours-per-week\"]=(df[\"hours-per-week\"]-df[\"hours-per-week\"].mean())/df[\"hours-per-week\"].std()"
      ]
    },
    {
      "cell_type": "code",
      "execution_count": 69,
      "metadata": {
        "colab": {
          "base_uri": "https://localhost:8080/",
          "height": 522
        },
        "id": "54uyu0sYy7dW",
        "outputId": "64f0eb8e-b1da-4367-8681-7b7e6060e9dc",
        "pycharm": {
          "name": "#%%\n"
        }
      },
      "outputs": [
        {
          "data": {
            "text/html": [
              "\n",
              "  <div id=\"df-05d86b83-0d63-4d7b-94ee-95b2249e29df\">\n",
              "    <div class=\"colab-df-container\">\n",
              "      <div>\n",
              "<style scoped>\n",
              "    .dataframe tbody tr th:only-of-type {\n",
              "        vertical-align: middle;\n",
              "    }\n",
              "\n",
              "    .dataframe tbody tr th {\n",
              "        vertical-align: top;\n",
              "    }\n",
              "\n",
              "    .dataframe thead th {\n",
              "        text-align: right;\n",
              "    }\n",
              "</style>\n",
              "<table border=\"1\" class=\"dataframe\">\n",
              "  <thead>\n",
              "    <tr style=\"text-align: right;\">\n",
              "      <th></th>\n",
              "      <th>age</th>\n",
              "      <th>workclass</th>\n",
              "      <th>fnlwgt</th>\n",
              "      <th>education</th>\n",
              "      <th>education-num</th>\n",
              "      <th>marital-status</th>\n",
              "      <th>occupation</th>\n",
              "      <th>relationship</th>\n",
              "      <th>race</th>\n",
              "      <th>sex</th>\n",
              "      <th>capital-gain</th>\n",
              "      <th>capital-loss</th>\n",
              "      <th>hours-per-week</th>\n",
              "      <th>native-country</th>\n",
              "      <th>&gt;=50K</th>\n",
              "    </tr>\n",
              "  </thead>\n",
              "  <tbody>\n",
              "    <tr>\n",
              "      <th>0</th>\n",
              "      <td>0.030670</td>\n",
              "      <td>6</td>\n",
              "      <td>-1.063594</td>\n",
              "      <td>8</td>\n",
              "      <td>1.134721</td>\n",
              "      <td>1</td>\n",
              "      <td>8</td>\n",
              "      <td>3</td>\n",
              "      <td>2</td>\n",
              "      <td>0</td>\n",
              "      <td>0.148451</td>\n",
              "      <td>-0.216656</td>\n",
              "      <td>-0.035429</td>\n",
              "      <td>0</td>\n",
              "      <td>0</td>\n",
              "    </tr>\n",
              "    <tr>\n",
              "      <th>1</th>\n",
              "      <td>0.837096</td>\n",
              "      <td>4</td>\n",
              "      <td>-1.008692</td>\n",
              "      <td>8</td>\n",
              "      <td>1.134721</td>\n",
              "      <td>2</td>\n",
              "      <td>9</td>\n",
              "      <td>2</td>\n",
              "      <td>2</td>\n",
              "      <td>0</td>\n",
              "      <td>-0.145918</td>\n",
              "      <td>-0.216656</td>\n",
              "      <td>-2.222119</td>\n",
              "      <td>0</td>\n",
              "      <td>0</td>\n",
              "    </tr>\n",
              "    <tr>\n",
              "      <th>2</th>\n",
              "      <td>-0.042641</td>\n",
              "      <td>1</td>\n",
              "      <td>0.245075</td>\n",
              "      <td>2</td>\n",
              "      <td>-0.420053</td>\n",
              "      <td>3</td>\n",
              "      <td>14</td>\n",
              "      <td>3</td>\n",
              "      <td>2</td>\n",
              "      <td>0</td>\n",
              "      <td>-0.145918</td>\n",
              "      <td>-0.216656</td>\n",
              "      <td>-0.035429</td>\n",
              "      <td>0</td>\n",
              "      <td>0</td>\n",
              "    </tr>\n",
              "    <tr>\n",
              "      <th>3</th>\n",
              "      <td>1.057031</td>\n",
              "      <td>1</td>\n",
              "      <td>0.425795</td>\n",
              "      <td>1</td>\n",
              "      <td>-1.197440</td>\n",
              "      <td>2</td>\n",
              "      <td>14</td>\n",
              "      <td>2</td>\n",
              "      <td>1</td>\n",
              "      <td>0</td>\n",
              "      <td>-0.145918</td>\n",
              "      <td>-0.216656</td>\n",
              "      <td>-0.035429</td>\n",
              "      <td>0</td>\n",
              "      <td>0</td>\n",
              "    </tr>\n",
              "    <tr>\n",
              "      <th>4</th>\n",
              "      <td>-0.775756</td>\n",
              "      <td>1</td>\n",
              "      <td>1.408154</td>\n",
              "      <td>8</td>\n",
              "      <td>1.134721</td>\n",
              "      <td>2</td>\n",
              "      <td>6</td>\n",
              "      <td>5</td>\n",
              "      <td>1</td>\n",
              "      <td>1</td>\n",
              "      <td>-0.145918</td>\n",
              "      <td>-0.216656</td>\n",
              "      <td>-0.035429</td>\n",
              "      <td>22</td>\n",
              "      <td>0</td>\n",
              "    </tr>\n",
              "    <tr>\n",
              "      <th>...</th>\n",
              "      <td>...</td>\n",
              "      <td>...</td>\n",
              "      <td>...</td>\n",
              "      <td>...</td>\n",
              "      <td>...</td>\n",
              "      <td>...</td>\n",
              "      <td>...</td>\n",
              "      <td>...</td>\n",
              "      <td>...</td>\n",
              "      <td>...</td>\n",
              "      <td>...</td>\n",
              "      <td>...</td>\n",
              "      <td>...</td>\n",
              "      <td>...</td>\n",
              "      <td>...</td>\n",
              "    </tr>\n",
              "    <tr>\n",
              "      <th>32556</th>\n",
              "      <td>-0.849067</td>\n",
              "      <td>1</td>\n",
              "      <td>0.639731</td>\n",
              "      <td>3</td>\n",
              "      <td>0.746028</td>\n",
              "      <td>2</td>\n",
              "      <td>10</td>\n",
              "      <td>5</td>\n",
              "      <td>2</td>\n",
              "      <td>1</td>\n",
              "      <td>-0.145918</td>\n",
              "      <td>-0.216656</td>\n",
              "      <td>-0.197406</td>\n",
              "      <td>0</td>\n",
              "      <td>0</td>\n",
              "    </tr>\n",
              "    <tr>\n",
              "      <th>32557</th>\n",
              "      <td>0.103982</td>\n",
              "      <td>1</td>\n",
              "      <td>-0.335428</td>\n",
              "      <td>2</td>\n",
              "      <td>-0.420053</td>\n",
              "      <td>2</td>\n",
              "      <td>1</td>\n",
              "      <td>2</td>\n",
              "      <td>2</td>\n",
              "      <td>0</td>\n",
              "      <td>-0.145918</td>\n",
              "      <td>-0.216656</td>\n",
              "      <td>-0.035429</td>\n",
              "      <td>0</td>\n",
              "      <td>1</td>\n",
              "    </tr>\n",
              "    <tr>\n",
              "      <th>32558</th>\n",
              "      <td>1.423588</td>\n",
              "      <td>1</td>\n",
              "      <td>-0.358772</td>\n",
              "      <td>2</td>\n",
              "      <td>-0.420053</td>\n",
              "      <td>7</td>\n",
              "      <td>8</td>\n",
              "      <td>4</td>\n",
              "      <td>2</td>\n",
              "      <td>1</td>\n",
              "      <td>-0.145918</td>\n",
              "      <td>-0.216656</td>\n",
              "      <td>-0.035429</td>\n",
              "      <td>0</td>\n",
              "      <td>0</td>\n",
              "    </tr>\n",
              "    <tr>\n",
              "      <th>32559</th>\n",
              "      <td>-1.215625</td>\n",
              "      <td>1</td>\n",
              "      <td>0.110958</td>\n",
              "      <td>2</td>\n",
              "      <td>-0.420053</td>\n",
              "      <td>1</td>\n",
              "      <td>8</td>\n",
              "      <td>1</td>\n",
              "      <td>2</td>\n",
              "      <td>0</td>\n",
              "      <td>-0.145918</td>\n",
              "      <td>-0.216656</td>\n",
              "      <td>-1.655199</td>\n",
              "      <td>0</td>\n",
              "      <td>0</td>\n",
              "    </tr>\n",
              "    <tr>\n",
              "      <th>32560</th>\n",
              "      <td>0.983719</td>\n",
              "      <td>7</td>\n",
              "      <td>0.929878</td>\n",
              "      <td>2</td>\n",
              "      <td>-0.420053</td>\n",
              "      <td>2</td>\n",
              "      <td>9</td>\n",
              "      <td>5</td>\n",
              "      <td>2</td>\n",
              "      <td>1</td>\n",
              "      <td>1.888395</td>\n",
              "      <td>-0.216656</td>\n",
              "      <td>-0.035429</td>\n",
              "      <td>0</td>\n",
              "      <td>1</td>\n",
              "    </tr>\n",
              "  </tbody>\n",
              "</table>\n",
              "<p>32561 rows × 15 columns</p>\n",
              "</div>\n",
              "      <button class=\"colab-df-convert\" onclick=\"convertToInteractive('df-05d86b83-0d63-4d7b-94ee-95b2249e29df')\"\n",
              "              title=\"Convert this dataframe to an interactive table.\"\n",
              "              style=\"display:none;\">\n",
              "        \n",
              "  <svg xmlns=\"http://www.w3.org/2000/svg\" height=\"24px\"viewBox=\"0 0 24 24\"\n",
              "       width=\"24px\">\n",
              "    <path d=\"M0 0h24v24H0V0z\" fill=\"none\"/>\n",
              "    <path d=\"M18.56 5.44l.94 2.06.94-2.06 2.06-.94-2.06-.94-.94-2.06-.94 2.06-2.06.94zm-11 1L8.5 8.5l.94-2.06 2.06-.94-2.06-.94L8.5 2.5l-.94 2.06-2.06.94zm10 10l.94 2.06.94-2.06 2.06-.94-2.06-.94-.94-2.06-.94 2.06-2.06.94z\"/><path d=\"M17.41 7.96l-1.37-1.37c-.4-.4-.92-.59-1.43-.59-.52 0-1.04.2-1.43.59L10.3 9.45l-7.72 7.72c-.78.78-.78 2.05 0 2.83L4 21.41c.39.39.9.59 1.41.59.51 0 1.02-.2 1.41-.59l7.78-7.78 2.81-2.81c.8-.78.8-2.07 0-2.86zM5.41 20L4 18.59l7.72-7.72 1.47 1.35L5.41 20z\"/>\n",
              "  </svg>\n",
              "      </button>\n",
              "      \n",
              "  <style>\n",
              "    .colab-df-container {\n",
              "      display:flex;\n",
              "      flex-wrap:wrap;\n",
              "      gap: 12px;\n",
              "    }\n",
              "\n",
              "    .colab-df-convert {\n",
              "      background-color: #E8F0FE;\n",
              "      border: none;\n",
              "      border-radius: 50%;\n",
              "      cursor: pointer;\n",
              "      display: none;\n",
              "      fill: #1967D2;\n",
              "      height: 32px;\n",
              "      padding: 0 0 0 0;\n",
              "      width: 32px;\n",
              "    }\n",
              "\n",
              "    .colab-df-convert:hover {\n",
              "      background-color: #E2EBFA;\n",
              "      box-shadow: 0px 1px 2px rgba(60, 64, 67, 0.3), 0px 1px 3px 1px rgba(60, 64, 67, 0.15);\n",
              "      fill: #174EA6;\n",
              "    }\n",
              "\n",
              "    [theme=dark] .colab-df-convert {\n",
              "      background-color: #3B4455;\n",
              "      fill: #D2E3FC;\n",
              "    }\n",
              "\n",
              "    [theme=dark] .colab-df-convert:hover {\n",
              "      background-color: #434B5C;\n",
              "      box-shadow: 0px 1px 3px 1px rgba(0, 0, 0, 0.15);\n",
              "      filter: drop-shadow(0px 1px 2px rgba(0, 0, 0, 0.3));\n",
              "      fill: #FFFFFF;\n",
              "    }\n",
              "  </style>\n",
              "\n",
              "      <script>\n",
              "        const buttonEl =\n",
              "          document.querySelector('#df-05d86b83-0d63-4d7b-94ee-95b2249e29df button.colab-df-convert');\n",
              "        buttonEl.style.display =\n",
              "          google.colab.kernel.accessAllowed ? 'block' : 'none';\n",
              "\n",
              "        async function convertToInteractive(key) {\n",
              "          const element = document.querySelector('#df-05d86b83-0d63-4d7b-94ee-95b2249e29df');\n",
              "          const dataTable =\n",
              "            await google.colab.kernel.invokeFunction('convertToInteractive',\n",
              "                                                     [key], {});\n",
              "          if (!dataTable) return;\n",
              "\n",
              "          const docLinkHtml = 'Like what you see? Visit the ' +\n",
              "            '<a target=\"_blank\" href=https://colab.research.google.com/notebooks/data_table.ipynb>data table notebook</a>'\n",
              "            + ' to learn more about interactive tables.';\n",
              "          element.innerHTML = '';\n",
              "          dataTable['output_type'] = 'display_data';\n",
              "          await google.colab.output.renderOutput(dataTable, element);\n",
              "          const docLink = document.createElement('div');\n",
              "          docLink.innerHTML = docLinkHtml;\n",
              "          element.appendChild(docLink);\n",
              "        }\n",
              "      </script>\n",
              "    </div>\n",
              "  </div>\n",
              "  "
            ],
            "text/plain": [
              "            age  workclass    fnlwgt  education  education-num  \\\n",
              "0      0.030670          6 -1.063594          8       1.134721   \n",
              "1      0.837096          4 -1.008692          8       1.134721   \n",
              "2     -0.042641          1  0.245075          2      -0.420053   \n",
              "3      1.057031          1  0.425795          1      -1.197440   \n",
              "4     -0.775756          1  1.408154          8       1.134721   \n",
              "...         ...        ...       ...        ...            ...   \n",
              "32556 -0.849067          1  0.639731          3       0.746028   \n",
              "32557  0.103982          1 -0.335428          2      -0.420053   \n",
              "32558  1.423588          1 -0.358772          2      -0.420053   \n",
              "32559 -1.215625          1  0.110958          2      -0.420053   \n",
              "32560  0.983719          7  0.929878          2      -0.420053   \n",
              "\n",
              "       marital-status  occupation  relationship  race  sex  capital-gain  \\\n",
              "0                   1           8             3     2    0      0.148451   \n",
              "1                   2           9             2     2    0     -0.145918   \n",
              "2                   3          14             3     2    0     -0.145918   \n",
              "3                   2          14             2     1    0     -0.145918   \n",
              "4                   2           6             5     1    1     -0.145918   \n",
              "...               ...         ...           ...   ...  ...           ...   \n",
              "32556               2          10             5     2    1     -0.145918   \n",
              "32557               2           1             2     2    0     -0.145918   \n",
              "32558               7           8             4     2    1     -0.145918   \n",
              "32559               1           8             1     2    0     -0.145918   \n",
              "32560               2           9             5     2    1      1.888395   \n",
              "\n",
              "       capital-loss  hours-per-week  native-country  >=50K  \n",
              "0         -0.216656       -0.035429               0      0  \n",
              "1         -0.216656       -2.222119               0      0  \n",
              "2         -0.216656       -0.035429               0      0  \n",
              "3         -0.216656       -0.035429               0      0  \n",
              "4         -0.216656       -0.035429              22      0  \n",
              "...             ...             ...             ...    ...  \n",
              "32556     -0.216656       -0.197406               0      0  \n",
              "32557     -0.216656       -0.035429               0      1  \n",
              "32558     -0.216656       -0.035429               0      0  \n",
              "32559     -0.216656       -1.655199               0      0  \n",
              "32560     -0.216656       -0.035429               0      1  \n",
              "\n",
              "[32561 rows x 15 columns]"
            ]
          },
          "execution_count": 69,
          "metadata": {},
          "output_type": "execute_result"
        }
      ],
      "source": [
        "df"
      ]
    },
    {
      "cell_type": "markdown",
      "metadata": {
        "collapsed": false,
        "id": "StnNvE9Ly7dW",
        "pycharm": {
          "name": "#%% md\n"
        }
      },
      "source": [
        "Task 2- *Naive Bayes Classifier Implementation*"
      ]
    },
    {
      "cell_type": "code",
      "execution_count": 70,
      "metadata": {
        "id": "VpFGYhjUy7dW",
        "pycharm": {
          "name": "#%%\n"
        }
      },
      "outputs": [],
      "source": [
        "train_data=df.sample(frac=0.67,random_state=42)\n",
        "test_data=pd.concat([df,train_data]).drop_duplicates(keep=False)\n",
        "X_train=train_data.drop('>=50K',axis=1).values\n",
        "Y_train=train_data['>=50K'].values\n",
        "X_test=test_data.drop('>=50K',axis=1).values\n",
        "Y_test=test_data['>=50K'].values"
      ]
    },
    {
      "cell_type": "code",
      "execution_count": 71,
      "metadata": {
        "colab": {
          "base_uri": "https://localhost:8080/"
        },
        "id": "G383ZtTsy7dW",
        "outputId": "d8f2a205-1fef-4968-ef64-4f6b639db599",
        "pycharm": {
          "name": "#%%\n"
        }
      },
      "outputs": [
        {
          "data": {
            "text/plain": [
              "array([[-0.84906741,  1.        , -0.28043934, ..., -0.2166562 ,\n",
              "        -0.19740595,  0.        ],\n",
              "       [ 0.47053884,  6.        , -1.31891422, ..., -0.2166562 ,\n",
              "        -0.0354289 ,  0.        ],\n",
              "       [-0.70244449,  1.        , -0.03666857, ..., -0.2166562 ,\n",
              "         1.17939893,  0.        ],\n",
              "       ...,\n",
              "       [ 1.35027633,  1.        ,  1.62525504, ..., -0.2166562 ,\n",
              "        -0.0354289 ,  0.        ],\n",
              "       [-0.92237887,  1.        , -1.42836948, ..., -0.2166562 ,\n",
              "        -0.0354289 ,  5.        ],\n",
              "       [ 0.25060446,  1.        , -0.16703335, ..., -0.2166562 ,\n",
              "        -0.0354289 ,  0.        ]])"
            ]
          },
          "execution_count": 71,
          "metadata": {},
          "output_type": "execute_result"
        }
      ],
      "source": [
        "X_train"
      ]
    },
    {
      "cell_type": "code",
      "execution_count": 72,
      "metadata": {
        "id": "OVT90LvYy7dW",
        "pycharm": {
          "name": "#%%\n"
        }
      },
      "outputs": [],
      "source": [
        "Continuous_features=[0,2,4,10,11,12]"
      ]
    },
    {
      "cell_type": "code",
      "execution_count": 73,
      "metadata": {
        "colab": {
          "base_uri": "https://localhost:8080/",
          "height": 305
        },
        "id": "4xaLV6C5y7dW",
        "outputId": "35279afc-f6bc-4194-a7e5-8bc89501bb2f",
        "pycharm": {
          "name": "#%%\n"
        }
      },
      "outputs": [
        {
          "data": {
            "text/html": [
              "\n",
              "  <div id=\"df-e2e8d9d1-d9f2-4864-9801-d81b20bba9b9\">\n",
              "    <div class=\"colab-df-container\">\n",
              "      <div>\n",
              "<style scoped>\n",
              "    .dataframe tbody tr th:only-of-type {\n",
              "        vertical-align: middle;\n",
              "    }\n",
              "\n",
              "    .dataframe tbody tr th {\n",
              "        vertical-align: top;\n",
              "    }\n",
              "\n",
              "    .dataframe thead th {\n",
              "        text-align: right;\n",
              "    }\n",
              "</style>\n",
              "<table border=\"1\" class=\"dataframe\">\n",
              "  <thead>\n",
              "    <tr style=\"text-align: right;\">\n",
              "      <th></th>\n",
              "      <th>age</th>\n",
              "      <th>workclass</th>\n",
              "      <th>fnlwgt</th>\n",
              "      <th>education</th>\n",
              "      <th>education-num</th>\n",
              "      <th>marital-status</th>\n",
              "      <th>occupation</th>\n",
              "      <th>relationship</th>\n",
              "      <th>race</th>\n",
              "      <th>sex</th>\n",
              "      <th>capital-gain</th>\n",
              "      <th>capital-loss</th>\n",
              "      <th>hours-per-week</th>\n",
              "      <th>native-country</th>\n",
              "      <th>&gt;=50K</th>\n",
              "    </tr>\n",
              "  </thead>\n",
              "  <tbody>\n",
              "    <tr>\n",
              "      <th>0</th>\n",
              "      <td>0.030670</td>\n",
              "      <td>6</td>\n",
              "      <td>-1.063594</td>\n",
              "      <td>8</td>\n",
              "      <td>1.134721</td>\n",
              "      <td>1</td>\n",
              "      <td>8</td>\n",
              "      <td>3</td>\n",
              "      <td>2</td>\n",
              "      <td>0</td>\n",
              "      <td>0.148451</td>\n",
              "      <td>-0.216656</td>\n",
              "      <td>-0.035429</td>\n",
              "      <td>0</td>\n",
              "      <td>0</td>\n",
              "    </tr>\n",
              "    <tr>\n",
              "      <th>1</th>\n",
              "      <td>0.837096</td>\n",
              "      <td>4</td>\n",
              "      <td>-1.008692</td>\n",
              "      <td>8</td>\n",
              "      <td>1.134721</td>\n",
              "      <td>2</td>\n",
              "      <td>9</td>\n",
              "      <td>2</td>\n",
              "      <td>2</td>\n",
              "      <td>0</td>\n",
              "      <td>-0.145918</td>\n",
              "      <td>-0.216656</td>\n",
              "      <td>-2.222119</td>\n",
              "      <td>0</td>\n",
              "      <td>0</td>\n",
              "    </tr>\n",
              "    <tr>\n",
              "      <th>2</th>\n",
              "      <td>-0.042641</td>\n",
              "      <td>1</td>\n",
              "      <td>0.245075</td>\n",
              "      <td>2</td>\n",
              "      <td>-0.420053</td>\n",
              "      <td>3</td>\n",
              "      <td>14</td>\n",
              "      <td>3</td>\n",
              "      <td>2</td>\n",
              "      <td>0</td>\n",
              "      <td>-0.145918</td>\n",
              "      <td>-0.216656</td>\n",
              "      <td>-0.035429</td>\n",
              "      <td>0</td>\n",
              "      <td>0</td>\n",
              "    </tr>\n",
              "    <tr>\n",
              "      <th>3</th>\n",
              "      <td>1.057031</td>\n",
              "      <td>1</td>\n",
              "      <td>0.425795</td>\n",
              "      <td>1</td>\n",
              "      <td>-1.197440</td>\n",
              "      <td>2</td>\n",
              "      <td>14</td>\n",
              "      <td>2</td>\n",
              "      <td>1</td>\n",
              "      <td>0</td>\n",
              "      <td>-0.145918</td>\n",
              "      <td>-0.216656</td>\n",
              "      <td>-0.035429</td>\n",
              "      <td>0</td>\n",
              "      <td>0</td>\n",
              "    </tr>\n",
              "    <tr>\n",
              "      <th>4</th>\n",
              "      <td>-0.775756</td>\n",
              "      <td>1</td>\n",
              "      <td>1.408154</td>\n",
              "      <td>8</td>\n",
              "      <td>1.134721</td>\n",
              "      <td>2</td>\n",
              "      <td>6</td>\n",
              "      <td>5</td>\n",
              "      <td>1</td>\n",
              "      <td>1</td>\n",
              "      <td>-0.145918</td>\n",
              "      <td>-0.216656</td>\n",
              "      <td>-0.035429</td>\n",
              "      <td>22</td>\n",
              "      <td>0</td>\n",
              "    </tr>\n",
              "  </tbody>\n",
              "</table>\n",
              "</div>\n",
              "      <button class=\"colab-df-convert\" onclick=\"convertToInteractive('df-e2e8d9d1-d9f2-4864-9801-d81b20bba9b9')\"\n",
              "              title=\"Convert this dataframe to an interactive table.\"\n",
              "              style=\"display:none;\">\n",
              "        \n",
              "  <svg xmlns=\"http://www.w3.org/2000/svg\" height=\"24px\"viewBox=\"0 0 24 24\"\n",
              "       width=\"24px\">\n",
              "    <path d=\"M0 0h24v24H0V0z\" fill=\"none\"/>\n",
              "    <path d=\"M18.56 5.44l.94 2.06.94-2.06 2.06-.94-2.06-.94-.94-2.06-.94 2.06-2.06.94zm-11 1L8.5 8.5l.94-2.06 2.06-.94-2.06-.94L8.5 2.5l-.94 2.06-2.06.94zm10 10l.94 2.06.94-2.06 2.06-.94-2.06-.94-.94-2.06-.94 2.06-2.06.94z\"/><path d=\"M17.41 7.96l-1.37-1.37c-.4-.4-.92-.59-1.43-.59-.52 0-1.04.2-1.43.59L10.3 9.45l-7.72 7.72c-.78.78-.78 2.05 0 2.83L4 21.41c.39.39.9.59 1.41.59.51 0 1.02-.2 1.41-.59l7.78-7.78 2.81-2.81c.8-.78.8-2.07 0-2.86zM5.41 20L4 18.59l7.72-7.72 1.47 1.35L5.41 20z\"/>\n",
              "  </svg>\n",
              "      </button>\n",
              "      \n",
              "  <style>\n",
              "    .colab-df-container {\n",
              "      display:flex;\n",
              "      flex-wrap:wrap;\n",
              "      gap: 12px;\n",
              "    }\n",
              "\n",
              "    .colab-df-convert {\n",
              "      background-color: #E8F0FE;\n",
              "      border: none;\n",
              "      border-radius: 50%;\n",
              "      cursor: pointer;\n",
              "      display: none;\n",
              "      fill: #1967D2;\n",
              "      height: 32px;\n",
              "      padding: 0 0 0 0;\n",
              "      width: 32px;\n",
              "    }\n",
              "\n",
              "    .colab-df-convert:hover {\n",
              "      background-color: #E2EBFA;\n",
              "      box-shadow: 0px 1px 2px rgba(60, 64, 67, 0.3), 0px 1px 3px 1px rgba(60, 64, 67, 0.15);\n",
              "      fill: #174EA6;\n",
              "    }\n",
              "\n",
              "    [theme=dark] .colab-df-convert {\n",
              "      background-color: #3B4455;\n",
              "      fill: #D2E3FC;\n",
              "    }\n",
              "\n",
              "    [theme=dark] .colab-df-convert:hover {\n",
              "      background-color: #434B5C;\n",
              "      box-shadow: 0px 1px 3px 1px rgba(0, 0, 0, 0.15);\n",
              "      filter: drop-shadow(0px 1px 2px rgba(0, 0, 0, 0.3));\n",
              "      fill: #FFFFFF;\n",
              "    }\n",
              "  </style>\n",
              "\n",
              "      <script>\n",
              "        const buttonEl =\n",
              "          document.querySelector('#df-e2e8d9d1-d9f2-4864-9801-d81b20bba9b9 button.colab-df-convert');\n",
              "        buttonEl.style.display =\n",
              "          google.colab.kernel.accessAllowed ? 'block' : 'none';\n",
              "\n",
              "        async function convertToInteractive(key) {\n",
              "          const element = document.querySelector('#df-e2e8d9d1-d9f2-4864-9801-d81b20bba9b9');\n",
              "          const dataTable =\n",
              "            await google.colab.kernel.invokeFunction('convertToInteractive',\n",
              "                                                     [key], {});\n",
              "          if (!dataTable) return;\n",
              "\n",
              "          const docLinkHtml = 'Like what you see? Visit the ' +\n",
              "            '<a target=\"_blank\" href=https://colab.research.google.com/notebooks/data_table.ipynb>data table notebook</a>'\n",
              "            + ' to learn more about interactive tables.';\n",
              "          element.innerHTML = '';\n",
              "          dataTable['output_type'] = 'display_data';\n",
              "          await google.colab.output.renderOutput(dataTable, element);\n",
              "          const docLink = document.createElement('div');\n",
              "          docLink.innerHTML = docLinkHtml;\n",
              "          element.appendChild(docLink);\n",
              "        }\n",
              "      </script>\n",
              "    </div>\n",
              "  </div>\n",
              "  "
            ],
            "text/plain": [
              "        age  workclass    fnlwgt  education  education-num  marital-status  \\\n",
              "0  0.030670          6 -1.063594          8       1.134721               1   \n",
              "1  0.837096          4 -1.008692          8       1.134721               2   \n",
              "2 -0.042641          1  0.245075          2      -0.420053               3   \n",
              "3  1.057031          1  0.425795          1      -1.197440               2   \n",
              "4 -0.775756          1  1.408154          8       1.134721               2   \n",
              "\n",
              "   occupation  relationship  race  sex  capital-gain  capital-loss  \\\n",
              "0           8             3     2    0      0.148451     -0.216656   \n",
              "1           9             2     2    0     -0.145918     -0.216656   \n",
              "2          14             3     2    0     -0.145918     -0.216656   \n",
              "3          14             2     1    0     -0.145918     -0.216656   \n",
              "4           6             5     1    1     -0.145918     -0.216656   \n",
              "\n",
              "   hours-per-week  native-country  >=50K  \n",
              "0       -0.035429               0      0  \n",
              "1       -2.222119               0      0  \n",
              "2       -0.035429               0      0  \n",
              "3       -0.035429               0      0  \n",
              "4       -0.035429              22      0  "
            ]
          },
          "execution_count": 73,
          "metadata": {},
          "output_type": "execute_result"
        }
      ],
      "source": [
        "df.head()"
      ]
    },
    {
      "cell_type": "code",
      "execution_count": 74,
      "metadata": {
        "id": "bNVvqFfpy7dW",
        "pycharm": {
          "name": "#%%\n"
        }
      },
      "outputs": [],
      "source": [
        "pos_neg_params=[]\n",
        "for i in Continuous_features:\n",
        "    pos=[]\n",
        "    neg=[]\n",
        "    for j in range(X_train.shape[0]):\n",
        "        if Y_train[j]==1:\n",
        "            pos.append(X_train[j][i])\n",
        "        else:\n",
        "            neg.append(X_train[j][i])\n",
        "    temp=[]\n",
        "    temp.append(mean(pos))\n",
        "    temp.append(stdev(pos))\n",
        "    temp.append(mean(neg))\n",
        "    temp.append(stdev(neg))\n",
        "    pos_neg_params.append(temp)"
      ]
    },
    {
      "cell_type": "code",
      "execution_count": 75,
      "metadata": {
        "id": "CtIds6dGy7dW",
        "pycharm": {
          "name": "#%%\n"
        }
      },
      "outputs": [],
      "source": [
        "def prior_probablity_each_class(Y_train,target):\n",
        "    count=0\n",
        "    for i in range(Y_train.shape[0]):\n",
        "        if Y_train[i]==target:\n",
        "            count=count+1\n",
        "    return count/Y_train.shape[0]"
      ]
    },
    {
      "cell_type": "code",
      "execution_count": 76,
      "metadata": {
        "id": "whljiPPJy7dX",
        "pycharm": {
          "name": "#%%\n"
        }
      },
      "outputs": [],
      "source": [
        "def conditional_probability_feature(feature_index,X_train,Y_train,target_class,feature):\n",
        "    if feature_index in Continuous_features:\n",
        "        pos=0\n",
        "        for i in range(len(Continuous_features)):\n",
        "            if Continuous_features[i]==feature_index:\n",
        "                pos=i\n",
        "                break\n",
        "        num=0\n",
        "        if target_class==1:\n",
        "            num=standard_normal_distribution(feature,pos_neg_params[pos][0],pos_neg_params[pos][1])\n",
        "        else:\n",
        "            num=standard_normal_distribution(feature,pos_neg_params[pos][2],pos_neg_params[pos][3])\n",
        "        return num\n",
        "    else:\n",
        "        den=0\n",
        "        count=0\n",
        "        for i in range(X_train.shape[0]):\n",
        "            if Y_train[i]==target_class:\n",
        "                den=den+1\n",
        "                if X_train[i][feature_index]==feature:\n",
        "                    count=count+1\n",
        "        return count/den\n"
      ]
    },
    {
      "cell_type": "code",
      "execution_count": 77,
      "metadata": {
        "id": "jsxsQE0Sy7dX",
        "pycharm": {
          "name": "#%%\n"
        }
      },
      "outputs": [],
      "source": [
        "def predict(X_train,Y_train,X_test,i):\n",
        "    p_pos=prior_probablity_each_class(Y_train,1)\n",
        "    p_neg=prior_probablity_each_class(Y_train,0)\n",
        "    for j in range(14):\n",
        "        p_pos=p_pos*conditional_probability_feature(j,X_train,Y_train,1,X_test[i][j])\n",
        "    for j in range(14):\n",
        "        p_neg=p_neg*conditional_probability_feature(j,X_train,Y_train,0,X_test[i][j])\n",
        "    if p_pos>=p_neg:\n",
        "        return 1\n",
        "    else:\n",
        "        return 0"
      ]
    },
    {
      "cell_type": "code",
      "execution_count": 38,
      "metadata": {
        "id": "G7tz7g8oy7dX",
        "pycharm": {
          "is_executing": true,
          "name": "#%%\n"
        }
      },
      "outputs": [],
      "source": [
        "ten_split_metrics={}\n",
        "for j in range(10):\n",
        "  train_datai=df.sample(frac=0.67,random_state=np.random.randint((1,100)))\n",
        "  test_datai=pd.concat([df,train_datai]).drop_duplicates(keep=False)\n",
        "  X_traini=train_datai.drop('>=50K',axis=1).values\n",
        "  Y_traini=train_datai['>=50K'].values\n",
        "  X_testi=test_datai.drop('>=50K',axis=1).values\n",
        "  Y_testi=test_datai['>=50K'].values\n",
        "  Y_pred=[]\n",
        "  for i in range(X_testi.shape[0]):\n",
        "      Y_pred.append(predict(X_traini,Y_traini,X_testi,i))\n",
        "  metrics=Eval_metrics_naive_bayes(Y_testi[:1000],Y_pred)\n",
        "  if j==0:\n",
        "    ten_split_metrics=metrics\n",
        "  else:\n",
        "    ten_split_metrics=dict(tuple(ten_split_metrics.items())+tuple(metrics.items()))  \n",
        "ten_split_metrics_final={}\n",
        "for key,value in ten_split_metrics.items():\n",
        "  ten_split_metrics_final[key]=value/10"
      ]
    },
    {
      "cell_type": "code",
      "execution_count": null,
      "metadata": {
        "colab": {
          "base_uri": "https://localhost:8080/"
        },
        "id": "D1TcZQeUy7dX",
        "outputId": "e0d5dad0-e68a-4458-ac6f-818c4ced2c4d",
        "pycharm": {
          "name": "#%%\n"
        }
      },
      "outputs": [
        {
          "name": "stdout",
          "output_type": "stream",
          "text": [
            "Model Name: Naive\n",
            "\n",
            "Accuracy: 0.8162751677852349\n",
            "\n",
            "Precision: 0.5964017991004498\n",
            "\n",
            "Recall: 0.760902830910482\n",
            "\n",
            "F1_Score: 0.6686838124054462\n",
            "\n",
            "Confusion_Matrix:\n",
            "       0     1\n",
            "0  1989  1346\n",
            "1   625  6768\n"
          ]
        }
      ],
      "source": [
        "evaluation_summary('Naive',ten_split_metrics_final)"
      ]
    },
    {
      "cell_type": "markdown",
      "metadata": {
        "collapsed": false,
        "id": "C6qt1hTqy7dX",
        "pycharm": {
          "name": "#%% md\n"
        }
      },
      "source": [
        "#Laplace Smoothing techinque"
      ]
    },
    {
      "cell_type": "code",
      "execution_count": 78,
      "metadata": {
        "id": "n_WO3C5fy7dX",
        "pycharm": {
          "name": "#%%\n"
        }
      },
      "outputs": [],
      "source": [
        "def conditional_probability_feature_with_smoothing(feature_index,X_train,Y_train,target_class,feature):\n",
        "    if feature_index in Continuous_features:\n",
        "        pos=0\n",
        "        for i in range(len(Continuous_features)):\n",
        "            if Continuous_features[i]==feature_index:\n",
        "                pos=i\n",
        "                break\n",
        "\n",
        "        num=0\n",
        "        if target_class==1:\n",
        "            num=standard_normal_distribution(feature,pos_neg_params[pos][0],pos_neg_params[pos][1])\n",
        "        else:\n",
        "            num=standard_normal_distribution(feature,pos_neg_params[pos][2],pos_neg_params[pos][3])\n",
        "\n",
        "        return num\n",
        "    else:\n",
        "        den=0\n",
        "        count=0\n",
        "        nc=0\n",
        "        n=0\n",
        "        m=0\n",
        "        for i in range(X_train.shape[0]):\n",
        "            if Y_train[i]==target_class:\n",
        "                den=den+1\n",
        "                n=n+1\n",
        "                if X_train[i][feature_index]==feature:\n",
        "                    nc=nc+1\n",
        "                    count=count+1\n",
        "        if count!=0:\n",
        "            return count/den\n",
        "        # To handle 0 probabilities\n",
        "        m=len(np.unique(df.iloc[:,feature_index]))\n",
        "        return (nc+1)/(n+m)\n",
        "\n",
        "\n",
        "\n"
      ]
    },
    {
      "cell_type": "code",
      "execution_count": 79,
      "metadata": {
        "id": "ni2dUVJLVgIh"
      },
      "outputs": [],
      "source": [
        "def predict_smoothing(X_train,Y_train,X_test,i):\n",
        "    p_pos=prior_probablity_each_class(Y_train,1)\n",
        "    p_neg=prior_probablity_each_class(Y_train,0)\n",
        "    for j in range(14):\n",
        "        p_pos=p_pos*conditional_probability_feature_with_smoothing(j,X_train,Y_train,1,X_test[i][j])\n",
        "    for j in range(14):\n",
        "        p_neg=p_neg*conditional_probability_feature_with_smoothing(j,X_train,Y_train,0,X_test[i][j])\n",
        "    if p_pos>=p_neg:\n",
        "        return 1\n",
        "    else:\n",
        "        return 0"
      ]
    },
    {
      "cell_type": "code",
      "execution_count": 82,
      "metadata": {
        "id": "iKDDlZlYy7dY",
        "pycharm": {
          "name": "#%%\n"
        }
      },
      "outputs": [],
      "source": [
        "ten_split_metrics={}\n",
        "for j in range(10):\n",
        "  train_datai=df.sample(frac=0.67,random_state=np.random.randint((1,100)))\n",
        "  test_datai=pd.concat([df,train_datai]).drop_duplicates(keep=False)\n",
        "  X_traini=train_datai.drop('>=50K',axis=1).values\n",
        "  Y_traini=train_datai['>=50K'].values\n",
        "  X_testi=test_datai.drop('>=50K',axis=1).values\n",
        "  Y_testi=test_datai['>=50K'].values\n",
        "  Y_pred=[]\n",
        "  for i in range(X_testi.shape[0]):\n",
        "      Y_pred.append(predict_smoothing(X_traini,Y_traini,X_testi,i))\n",
        "  metrics=Eval_metrics_naive_bayes(Y_testi,Y_pred)\n",
        "  if j==0:\n",
        "    ten_split_metrics=metrics\n",
        "  else:\n",
        "    ten_split_metrics=dict(tuple(ten_split_metrics.items())+tuple(metrics.items()))  \n",
        "ten_split_metrics_final={}\n",
        "for key,value in ten_split_metrics.items():\n",
        "  ten_split_metrics_final[key]=value/1"
      ]
    },
    {
      "cell_type": "code",
      "execution_count": 83,
      "metadata": {
        "colab": {
          "base_uri": "https://localhost:8080/"
        },
        "id": "ugBZSGXFy7dY",
        "outputId": "a331f244-109c-4974-d701-2e718fab9a27",
        "pycharm": {
          "name": "#%%\n"
        }
      },
      "outputs": [
        {
          "name": "stdout",
          "output_type": "stream",
          "text": [
            "Model Name: Naive Bayes(Laplace Smoothing)\n",
            "\n",
            "Average Accuracy: 0.824\n",
            "\n",
            "Average Precision: 0.609375\n",
            "\n",
            "Average Recall: 0.7926829268292683\n",
            "\n",
            "Average F1_Score: 0.6890459363957597\n",
            "\n",
            "Confusion_Matrix:\n",
            "        0      1\n",
            "0  195.0  125.0\n",
            "1   51.0  629.0\n"
          ]
        }
      ],
      "source": [
        "evaluation_summary('Naive Bayes(Laplace Smoothing)',ten_split_metrics_final)"
      ]
    },
    {
      "cell_type": "markdown",
      "metadata": {
        "collapsed": false,
        "id": "DU1EWmp8y7dY",
        "pycharm": {
          "name": "#%% md\n"
        }
      },
      "source": [
        "# Logistic Regression"
      ]
    },
    {
      "cell_type": "code",
      "execution_count": null,
      "metadata": {
        "colab": {
          "base_uri": "https://localhost:8080/"
        },
        "id": "pzLF8d38y7dY",
        "outputId": "dc1717ad-4cc5-423b-86ca-04df042c3de8",
        "pycharm": {
          "name": "#%%\n"
        }
      },
      "outputs": [
        {
          "name": "stdout",
          "output_type": "stream",
          "text": [
            "Model Name: Logistic Regression\n",
            "\n",
            "Accuracy: 0.8250372856077554\n",
            "\n",
            "Precision: 0.4525631216526396\n",
            "\n",
            "Recall: 0.7262124002455494\n",
            "\n",
            "F1_Score: 0.5576243224133868\n",
            "\n",
            "Confusion_Matrix:\n",
            "       0     1\n",
            "0  1183  1431\n",
            "1   446  7668\n"
          ]
        }
      ],
      "source": [
        "from sklearn.linear_model import LogisticRegression\n",
        "classifier=LogisticRegression()\n",
        "classifier.fit(X_train,Y_train)\n",
        "Y_pred=classifier.predict(X_test)\n",
        "metrics=Eval_metrics_naive_bayes(Y_pred,Y_test)\n",
        "evaluation_summary('Logistic Regression',metrics)"
      ]
    },
    {
      "cell_type": "markdown",
      "metadata": {
        "id": "dRNJCLjsfkHU"
      },
      "source": [
        "# K Nearest Neighbours Classifier"
      ]
    },
    {
      "cell_type": "code",
      "execution_count": null,
      "metadata": {
        "colab": {
          "base_uri": "https://localhost:8080/"
        },
        "id": "ylYtjb0Sy7dY",
        "outputId": "413b0c2d-a832-41cb-aead-a1978e1a14d9",
        "pycharm": {
          "name": "#%%\n"
        }
      },
      "outputs": [
        {
          "name": "stdout",
          "output_type": "stream",
          "text": [
            "Model Name: K-Nearest Neighbours\n",
            "\n",
            "Accuracy: 0.8187919463087249\n",
            "\n",
            "Precision: 0.5734506503442999\n",
            "\n",
            "Recall: 0.6439003436426117\n",
            "\n",
            "F1_Score: 0.6066369890732497\n",
            "\n",
            "Confusion_Matrix:\n",
            "       0     1\n",
            "0  1499  1115\n",
            "1   829  7285\n"
          ]
        }
      ],
      "source": [
        "from sklearn.neighbors import KNeighborsClassifier\n",
        "classifier=KNeighborsClassifier(n_neighbors=5)\n",
        "classifier.fit(X_train,Y_train)\n",
        "Y_pred=classifier.predict(X_test)\n",
        "metrics=Eval_metrics_naive_bayes(Y_pred,Y_test)\n",
        "evaluation_summary('K-Nearest Neighbours',metrics)"
      ]
    }
  ],
  "metadata": {
    "accelerator": "GPU",
    "colab": {
      "provenance": []
    },
    "gpuClass": "standard",
    "kernelspec": {
      "display_name": "Python 3",
      "name": "python3"
    },
    "language_info": {
      "name": "python"
    }
  },
  "nbformat": 4,
  "nbformat_minor": 0
}
