{
 "cells": [
  {
   "cell_type": "code",
   "execution_count": 1,
   "metadata": {
    "collapsed": true
   },
   "outputs": [],
   "source": [
    "import numpy as np\n",
    "import tensorflow as tf\n",
    "from tensorflow.keras.datasets import mnist\n",
    "from tensorflow.keras.models import Sequential\n",
    "from tensorflow.keras.losses import categorical_crossentropy\n",
    "from tensorflow.keras.optimizers import Adam\n",
    "from tensorflow.keras import metrics\n",
    "from sklearn.metrics import accuracy_score, confusion_matrix\n",
    "from tensorflow.keras.layers import Conv2D, MaxPooling2D, Flatten, Dense, Dropout\n",
    "from tensorflow.keras.utils import to_categorical\n",
    "import matplotlib.pyplot as plt"
   ]
  },
  {
   "cell_type": "code",
   "execution_count": 2,
   "metadata": {
    "collapsed": false
   },
   "outputs": [],
   "source": [
    "(X_train, y_train), (X_test, y_test) = mnist.load_data()\n",
    "X_train = X_train.reshape(-1, 28, 28, 1) / 255.0\n",
    "X_test = X_test.reshape(-1, 28, 28, 1) / 255.0\n",
    "y_train = to_categorical(y_train)\n",
    "y_test = to_categorical(y_test)"
   ]
  },
  {
   "cell_type": "code",
   "execution_count": 3,
   "metadata": {
    "collapsed": false
   },
   "outputs": [],
   "source": [
    "num_classes = 10\n",
    "batch_size = 64\n",
    "num_epochs = 10"
   ]
  },
  {
   "cell_type": "code",
   "execution_count": 4,
   "metadata": {
    "collapsed": false
   },
   "outputs": [],
   "source": [
    "architectures = [\n",
    "    {'num_hidden_layers': 2, 'hidden_layer_size': 100},\n",
    "    {'num_hidden_layers': 2, 'hidden_layer_size': 150},\n",
    "    {'num_hidden_layers': 3, 'hidden_layer_size': 100},\n",
    "    {'num_hidden_layers': 3, 'hidden_layer_size': 150}\n",
    "]"
   ]
  },
  {
   "cell_type": "code",
   "execution_count": 5,
   "metadata": {
    "collapsed": false
   },
   "outputs": [],
   "source": [
    "activation_functions = ['tanh', 'sigmoid', 'relu']"
   ]
  },
  {
   "cell_type": "code",
   "execution_count": 6,
   "metadata": {
    "collapsed": false
   },
   "outputs": [],
   "source": [
    "results = []"
   ]
  },
  {
   "cell_type": "markdown",
   "metadata": {
    "collapsed": false
   },
   "source": [
    "## Conv2D slides a kernel matrix on the image, computing a dot product at each location\n",
    "\n",
    "## The Kernel Matrix is a 2D matrix of weights that learns in the NN, obtained by Sequential multiplication with the pixel\n",
    "## values\n",
    "\n",
    "## MaxPooling is used to reduce the spatial dimensions of the features, which generally have a lot of spatial redundancy"
   ]
  },
  {
   "cell_type": "code",
   "execution_count": 8,
   "metadata": {
    "collapsed": false
   },
   "outputs": [],
   "source": [
    "for architecture in architectures:\n",
    "    for activation in activation_functions:\n",
    "        model = Sequential()\n",
    "        model.add(Conv2D(filters=32, kernel_size=(3, 3), activation=activation, input_shape=(28, 28, 1)))\n",
    "        model.add(MaxPooling2D(pool_size=(2, 2)))\n",
    "        model.add(Flatten())\n",
    "        for i in range(architecture['num_hidden_layers']):\n",
    "            model.add(Dense(units=architecture['hidden_layer_size'], activation=activation))\n",
    "        model.add(Dense(units=num_classes, activation='softmax'))\n",
    "        model.compile(loss='categorical_crossentropy', optimizer='adam', metrics=['accuracy'])\n",
    "        model.fit(X_train, y_train, batch_size=batch_size, epochs=num_epochs, verbose=0)\n",
    "        y_predict = np.argmax(model.predict(X_test), axis=1)\n",
    "        accuracy = accuracy_score(np.argmax(y_test, axis=1), y_predict)\n",
    "        cm = confusion_matrix(np.argmax(y_test, axis=1), y_predict)\n",
    "\n",
    "        results.append({\n",
    "            'architecture': architecture,\n",
    "            'activation function': activation,\n",
    "            'accuracy': accuracy,\n",
    "            'confusion matrix': cm\n",
    "        })\n"
   ]
  },
  {
   "cell_type": "code",
   "execution_count": null,
   "metadata": {
    "collapsed": false
   },
   "outputs": [],
   "source": [
    "for i, result in enumerate(results):\n",
    "    print(f'Model {i+1}: Architecture={result[\"architecture\"]}, Activation Function={result[\"activation_function\"]}, Accuracy={result[\"accuracy\"]:.4f}')\n",
    "    print(result['confusion_matrix'])"
   ]
  },
  {
   "cell_type": "code",
   "execution_count": null,
   "metadata": {
    "collapsed": false
   },
   "outputs": [],
   "source": []
  }
 ],
 "metadata": {
  "kernelspec": {
   "display_name": "Python 3",
   "language": "python",
   "name": "python3"
  },
  "language_info": {
   "codemirror_mode": {
    "name": "ipython",
    "version": 3
   },
   "file_extension": ".py",
   "mimetype": "text/x-python",
   "name": "python",
   "nbconvert_exporter": "python",
   "pygments_lexer": "ipython3",
   "version": "3.7.15"
  }
 },
 "nbformat": 4,
 "nbformat_minor": 0
}
